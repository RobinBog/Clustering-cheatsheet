{
 "cells": [
  {
   "cell_type": "markdown",
   "metadata": {},
   "source": [
    "## <center>Clustering - Kmeans</center>\n",
    "### <center>Cheatsheet</center>"
   ]
  },
  {
   "cell_type": "markdown",
   "metadata": {},
   "source": [
    "# Overview\n",
    "## What is Clustering\n",
    "Clustering is an <strong>unsupervised </strong>  learning technique. This means the data does <strong>not contain any label/target</strong>.\n",
    "  \n",
    "The goal is to <strong>divide the data points into a number of groups -> the clusters</strong>. Each group should contain data points with similar characteristics. Data points within a cluster are more similar than data points in different clusters.\n",
    "  \n",
    "Clustering is therefore usefull to analyse an unlabeled datasets and find groups of data points with similar properties or features.\n",
    "\n",
    "<img src=\"images/clustering.png\" width=\"500\"/>\n",
    "\n",
    "## Why use clustering?\n",
    "A usecase for clustering which is simple to understand is the segmentation of customers.\n",
    "  \n",
    "Clustering can be used to find natural clusters. An example are customer segments. It makes it possible to find unknown properties of those groups and therefore give an answerer to the question \"Who are my Customers?\". Clustering makes it possible to find those segments and to characterize them for marketing purposes.\n",
    "  \n",
    "On the other hand clustering can be usefull to identify unusual data points. This can be used for outlier detection."
   ]
  },
  {
   "cell_type": "markdown",
   "metadata": {},
   "source": [
    "# Clustering Algorithm"
   ]
  },
  {
   "cell_type": "markdown",
   "metadata": {},
   "source": [
    "# K-means\n",
    "Don´t get confused with k-means and k-nearest neighbor. K-means is a clustering algorithm whereas k-nearest neighbor is a classifier.\n",
    "  \n",
    "The simplest algorithm for clustering is probably the K-means algorithm. It uses the distance of a point to the center of a cluster to determine the cluster of the point.\n",
    "  \n",
    "A downside of K-means is that <strong>you have to choose the number of clusters, the K, by yourself.</strong>"
   ]
  },
  {
   "cell_type": "markdown",
   "metadata": {},
   "source": [
    "## How K-means works"
   ]
  },
  {
   "cell_type": "markdown",
   "metadata": {},
   "source": [
    "1. Select K and choose <strong>random points</strong> in the dataset as the center of a Cluster. The center is also called centroids.\n"
   ]
  },
  {
   "cell_type": "markdown",
   "metadata": {},
   "source": [
    "<img src=\"images/kmeans1.png\" width=\"350\">"
   ]
  },
  {
   "cell_type": "markdown",
   "metadata": {},
   "source": [
    "2. Measure the euclidean distance of each point to the centroids. Every point is now a member of the cluster with the nearest centroid."
   ]
  },
  {
   "cell_type": "markdown",
   "metadata": {},
   "source": [
    "<img src=\"images/kmeans2.png\" width=\"350\">"
   ]
  },
  {
   "cell_type": "markdown",
   "metadata": {},
   "source": [
    "3. Calculate for every cluster the new centroid by taking the average of the assigned points."
   ]
  },
  {
   "cell_type": "markdown",
   "metadata": {},
   "source": [
    "<img src=\"images/kmeans3.png\" width=\"350\">"
   ]
  },
  {
   "cell_type": "markdown",
   "metadata": {},
   "source": [
    "4. repeat steps 2 and 3 until none of the points are changing clusters"
   ]
  },
  {
   "cell_type": "markdown",
   "metadata": {},
   "source": [
    "<img src=\"images/kmeans456.png\">"
   ]
  },
  {
   "cell_type": "markdown",
   "metadata": {},
   "source": [
    "## How to choose K?\n",
    "In a two dimensional space it is easy to plot the data and find K simply by looking at the plot.\n",
    "We want to use more features in our analysis so plotting and reading k is not a good approach.\n",
    "  \n",
    "There are several ways to determine K.\n",
    "If you are interested you can read this article : https://medium.com/towards-artificial-intelligence/get-the-optimal-k-in-k-means-clustering-d45b5b8a4315\n",
    "  \n",
    "We will take a look at the Elbow method to choose k."
   ]
  },
  {
   "cell_type": "markdown",
   "metadata": {},
   "source": [
    "### Elbow method\n",
    "The elbow method uses the <strong>inertia</strong> of the clustering. <strong>The inertia is calculated as the sum of squared distance for each point to it´s closest centroid</strong>/the cluster. Therefore if the inertia is smaller the clusters should be denser.\n",
    "  \n",
    "<img src=\"images/elbow.png\" width=\"350\">\n",
    "\n",
    "When k increases, the inertia is getting smaller. You can see a k value where the inertia decreases slower. This is the \"elbow\" and it indicades a good fit for k.\n",
    "However, the inertia is not as meaningful as we think. The more clusters we choose , the smaller the inertia. If we would choose as many clusters as instances the inertia would be 0. Because every point would be at a distance of 0 from its cluster."
   ]
  },
  {
   "cell_type": "markdown",
   "metadata": {},
   "source": [
    "## k-means summary\n",
    "<table style=\"width:80%\">\n",
    "  <tr>\n",
    "    <th style=\"background-color: #92BB0E\">pros</th>\n",
    "    <th style=\"background-color: #BD005E\">cons</th>\n",
    "  </tr>\n",
    "  <tr>\n",
    "    <td>easy to understand</td>\n",
    "    <td>multiple starts with random picked centroids</td>\n",
    "  </tr>\n",
    "  <tr>\n",
    "              <td>fast on many instances</td>\n",
    "    <td>choose k manually</td>\n",
    "  </tr>\n",
    "    <tr><td></td>\n",
    "    <td>equal treatment of all directions</td></tr>\n",
    "</table>"
   ]
  },
  {
   "cell_type": "markdown",
   "metadata": {},
   "source": [
    "## Lets write code for KMeans!"
   ]
  },
  {
   "cell_type": "markdown",
   "metadata": {},
   "source": [
    "## Important!\n",
    "Because Kmeans and DBScan measures distances, it is <strong>important to standardize the Datasset</strong> before applying a cluster algorithm. Check out the BigDataScienceCheatsheet for more infos on standardizing and normalizing. The Dataset we will use is already standardize so we dont have to do it in this example."
   ]
  },
  {
   "cell_type": "markdown",
   "metadata": {},
   "source": [
    "## 1. Import libs and dataset"
   ]
  },
  {
   "cell_type": "code",
   "execution_count": 2,
   "metadata": {},
   "outputs": [],
   "source": [
    "import pandas as pd\n",
    "import numpy as np\n",
    "from sklearn.cluster import KMeans\n",
    "from matplotlib import pyplot as plt"
   ]
  },
  {
   "cell_type": "code",
   "execution_count": 3,
   "metadata": {},
   "outputs": [
    {
     "name": "stdout",
     "output_type": "stream",
     "text": [
      "this is the Dataset we want to cluster\n"
     ]
    },
    {
     "data": {
      "text/html": [
       "<div>\n",
       "<style scoped>\n",
       "    .dataframe tbody tr th:only-of-type {\n",
       "        vertical-align: middle;\n",
       "    }\n",
       "\n",
       "    .dataframe tbody tr th {\n",
       "        vertical-align: top;\n",
       "    }\n",
       "\n",
       "    .dataframe thead th {\n",
       "        text-align: right;\n",
       "    }\n",
       "</style>\n",
       "<table border=\"1\" class=\"dataframe\">\n",
       "  <thead>\n",
       "    <tr style=\"text-align: right;\">\n",
       "      <th></th>\n",
       "      <th>x</th>\n",
       "      <th>y</th>\n",
       "    </tr>\n",
       "  </thead>\n",
       "  <tbody>\n",
       "    <tr>\n",
       "      <th>0</th>\n",
       "      <td>-7.338988</td>\n",
       "      <td>-7.729954</td>\n",
       "    </tr>\n",
       "    <tr>\n",
       "      <th>1</th>\n",
       "      <td>-7.740041</td>\n",
       "      <td>-7.264665</td>\n",
       "    </tr>\n",
       "    <tr>\n",
       "      <th>2</th>\n",
       "      <td>-1.686653</td>\n",
       "      <td>7.793442</td>\n",
       "    </tr>\n",
       "    <tr>\n",
       "      <th>3</th>\n",
       "      <td>4.422198</td>\n",
       "      <td>3.071947</td>\n",
       "    </tr>\n",
       "    <tr>\n",
       "      <th>4</th>\n",
       "      <td>-8.917752</td>\n",
       "      <td>-7.888196</td>\n",
       "    </tr>\n",
       "  </tbody>\n",
       "</table>\n",
       "</div>"
      ],
      "text/plain": [
       "          x         y\n",
       "0 -7.338988 -7.729954\n",
       "1 -7.740041 -7.264665\n",
       "2 -1.686653  7.793442\n",
       "3  4.422198  3.071947\n",
       "4 -8.917752 -7.888196"
      ]
     },
     "execution_count": 3,
     "metadata": {},
     "output_type": "execute_result"
    }
   ],
   "source": [
    "data = pd.read_csv(\"cluster.csv\")\n",
    "del data[\"Unnamed: 0\"]\n",
    "print(\"this is the Dataset we want to cluster\")\n",
    "data.head()"
   ]
  },
  {
   "cell_type": "markdown",
   "metadata": {},
   "source": [
    "## 2. train multiple models and safe the inertia each time"
   ]
  },
  {
   "cell_type": "code",
   "execution_count": 4,
   "metadata": {},
   "outputs": [
    {
     "name": "stdout",
     "output_type": "stream",
     "text": [
      "this are the several inertia values of the kmeans models\n"
     ]
    },
    {
     "data": {
      "text/plain": [
       "[20402.344442926293,\n",
       " 5763.464789461435,\n",
       " 566.8595511244132,\n",
       " 496.1904564577493,\n",
       " 429.7821010430649]"
      ]
     },
     "execution_count": 4,
     "metadata": {},
     "output_type": "execute_result"
    }
   ],
   "source": [
    "# this is the var where we will safe the inertia of each model\n",
    "inertia = []\n",
    "clustersAmount = range(1,6)\n",
    "\n",
    "# train 6 models with 1-6 k´s\n",
    "for i in clustersAmount:\n",
    "    kmeans = KMeans(n_clusters=i, init='k-means++', max_iter=300, n_init=10, random_state=42)\n",
    "    kmeans.fit(data)\n",
    "    # append the inertia of each model to the inertia list\n",
    "    inertia.append(kmeans.inertia_)\n",
    "\n",
    "print(\"this are the several inertia values of the kmeans models\")\n",
    "inertia"
   ]
  },
  {
   "cell_type": "markdown",
   "metadata": {},
   "source": [
    "<strong>Note that we give the KMeans constructor the value \"k-means++\" for the init parameter. This means we use a more intelligent way of selecting the first initial centroids."
   ]
  },
  {
   "cell_type": "markdown",
   "metadata": {},
   "source": [
    "## 3. Plot the inertia values to use the elbow method"
   ]
  },
  {
   "cell_type": "code",
   "execution_count": 5,
   "metadata": {},
   "outputs": [
    {
     "data": {
      "image/png": "[encoded data removed]",
      "text/plain": [
       "<Figure size 432x288 with 1 Axes>"
      ]
     },
     "metadata": {
      "needs_background": "light"
     },
     "output_type": "display_data"
    }
   ],
   "source": [
    "plt.plot(clustersAmount, inertia, \"s-\")\n",
    "plt.title('Elbow Method')\n",
    "plt.xlabel('K = Number of clusters')\n",
    "plt.ylabel('Inertia')\n",
    "plt.show()"
   ]
  },
  {
   "cell_type": "markdown",
   "metadata": {},
   "source": [
    "### Because of the elbow method we can see that k = 3 should be a good fit."
   ]
  },
  {
   "cell_type": "markdown",
   "metadata": {},
   "source": [
    "## Lets check the original Data\n",
    "The data we used is two dimensional which makes it easy to plot and read the K. This is just for practise and checking if the elbow method is really doing a good job."
   ]
  },
  {
   "cell_type": "code",
   "execution_count": 6,
   "metadata": {},
   "outputs": [
    {
     "data": {
      "text/plain": [
       "<matplotlib.collections.PathCollection at 0x1a1785a0b8>"
      ]
     },
     "execution_count": 6,
     "metadata": {},
     "output_type": "execute_result"
    },
    {
     "data": {
      "image/png": "[encoded data removed]",
      "text/plain": [
       "<Figure size 432x288 with 1 Axes>"
      ]
     },
     "metadata": {
      "needs_background": "light"
     },
     "output_type": "display_data"
    }
   ],
   "source": [
    "plt.scatter(data.x, data.y)"
   ]
  },
  {
   "cell_type": "markdown",
   "metadata": {},
   "source": [
    "### Hooray! We successfully figured out k for our Dataset with the elbow method. "
   ]
  },
  {
   "cell_type": "markdown",
   "metadata": {},
   "source": [
    "## Lets check our KMeans clustering with our chosen k"
   ]
  },
  {
   "cell_type": "code",
   "execution_count": 10,
   "metadata": {},
   "outputs": [
    {
     "data": {
      "text/plain": [
       "KMeans(algorithm='auto', copy_x=True, init='k-means++', max_iter=300,\n",
       "    n_clusters=3, n_init=10, n_jobs=None, precompute_distances='auto',\n",
       "    random_state=42, tol=0.0001, verbose=0)"
      ]
     },
     "execution_count": 10,
     "metadata": {},
     "output_type": "execute_result"
    }
   ],
   "source": [
    "# initialize a new instance of the kmeans\n",
    "kmeans = KMeans(n_clusters=3, init='k-means++', max_iter=300, n_init=10, random_state=42)\n",
    "# fit the instance on the data we want to use\n",
    "kmeans.fit(data)"
   ]
  },
  {
   "cell_type": "code",
   "execution_count": 13,
   "metadata": {},
   "outputs": [],
   "source": [
    "# save the cluster labels of each point\n",
    "clusters = kmeans.labels_\n",
    "colors = ['red', 'green', 'blue', 'tan']\n",
    "\n",
    "vectorizer = np.vectorize(lambda x: colors[x % len(colors)])"
   ]
  },
  {
   "cell_type": "code",
   "execution_count": 15,
   "metadata": {},
   "outputs": [
    {
     "data": {
      "text/plain": [
       "<matplotlib.collections.PathCollection at 0x1a1a675b00>"
      ]
     },
     "execution_count": 15,
     "metadata": {},
     "output_type": "execute_result"
    },
    {
     "data": {
      "image/png": "[encoded data removed]",
      "text/plain": [
       "<Figure size 432x288 with 1 Axes>"
      ]
     },
     "metadata": {
      "needs_background": "light"
     },
     "output_type": "display_data"
    }
   ],
   "source": [
    "plt.scatter(data.x, data.y, c=vectorizer(clusters))"
   ]
  },
  {
   "cell_type": "markdown",
   "metadata": {},
   "source": [
    "## Looks pretty good!"
   ]
  },
  {
   "cell_type": "markdown",
   "metadata": {},
   "source": [
    "# Clustering Algorithm"
   ]
  },
  {
   "cell_type": "markdown",
   "metadata": {},
   "source": [
    "# DBScan\n",
    "\"Density-Based Spatial Clustering of Applications with Noise\"\n",
    "  \n",
    "The DBScan clustering algorithm is not meassuring the distance of a point to the cluster center. Instead it is <strong>density based</strong>.\n",
    "  \n",
    "Density based means that the algorithm uses the concept of reachability. Is a point reachable from several other points or is it a lonely point and therefore a outlier or noise point?\n",
    "In contrast to k-means we dont have to choose k for DBScan. It produces the amount of clusters by itself."
   ]
  },
  {
   "cell_type": "markdown",
   "metadata": {},
   "source": [
    "## How DBScan works\n",
    "The main concept is density. How many neighbours does a point have within a radius?\n",
    "This radius is called epsilon and we have to choose this value. In addition we have to choose the min_samples/minPts i.e. the minimum amount of points within the radius to determine whether a point is a core point. It´s important to note that the point itself is included in the min_sample.\n",
    "  \n",
    "The Algorithm ends with 3 sorts of points:\n",
    "- Core: these points have min_samples neighbors within epsilon \n",
    "- Border: these points are in the neighbourhod of a core point but have less than min_samples neighbors\n",
    "- Noise: these points have too less neighbors and are therefore noise or outliers\n",
    "  \n",
    "<img src=\"images/dbscan.png\" width=\"350\">"
   ]
  },
  {
   "cell_type": "markdown",
   "metadata": {},
   "source": [
    "## How to choose Ɛ/Epsilon and min_samples?\n",
    "### min_samples\n",
    "There is no general way for choosing the min_samples/minPts. It heavily depends on the dataset and the result you want to get. If you choose min_samples very small, DBScan will create more clusters out of noise. So we shouldnt choose it too small.\n",
    "\n",
    "### Ɛ/Epsilon\n",
    "To choose a good value for epsilon we can use an old friend. The elbow Method, but this time in a different way.\n",
    "  \n",
    "First we have to compute the k-nearest neighbor (K-NN) for every single data point. This gives us a k-distance plot of our dataset and we can understand the density distribution of our data.\n",
    "When we plot the distances of each point we can use the elbow method to determine epsilon for DBScan.\n",
    "  \n",
    "Epsilon and min_samples depend strongly on the dataset. "
   ]
  },
  {
   "cell_type": "markdown",
   "metadata": {},
   "source": [
    "## DBScan summary\n",
    "<table style=\"width:80%\">\n",
    "  <tr>\n",
    "    <th style=\"background-color: #92BB0E\">pros</th>\n",
    "    <th style=\"background-color: #BD005E\">cons</th>\n",
    "  </tr>\n",
    "  <tr>\n",
    "    <td>also easy to understand</td>\n",
    "    <td>doesn´t perform well as others when the clusters are of varying density</td>\n",
    "  </tr>\n",
    "  <tr>\n",
    "              <td>no pre-set numbers of clusters</td>\n",
    "    <td>different for high-dimensionality data because estimating epsilon will be difficult</td>\n",
    "  </tr>\n",
    "    <tr><td>can find outliers and unusual formed clusters well</td>\n",
    "    <td></td></tr>\n",
    "</table>"
   ]
  },
  {
   "cell_type": "markdown",
   "metadata": {},
   "source": [
    "## Lets write code for DBScan!"
   ]
  },
  {
   "cell_type": "markdown",
   "metadata": {},
   "source": [
    "## Important!\n",
    "Because Kmeans and DBScan meassures distances it is <strong>important to standardize the Datasset</strong> before applying a cluster algorithm. Check out the BigDataScienceCheatsheet for more infos on standardizing and normalizing. The Dataset we will use is already standardize so we dont have to do it in this example."
   ]
  },
  {
   "cell_type": "markdown",
   "metadata": {},
   "source": [
    "## 1. Important the libs and the data"
   ]
  },
  {
   "cell_type": "code",
   "execution_count": 17,
   "metadata": {},
   "outputs": [
    {
     "name": "stdout",
     "output_type": "stream",
     "text": [
      "this is the Dataset we want to cluster\n"
     ]
    },
    {
     "data": {
      "text/html": [
       "<div>\n",
       "<style scoped>\n",
       "    .dataframe tbody tr th:only-of-type {\n",
       "        vertical-align: middle;\n",
       "    }\n",
       "\n",
       "    .dataframe tbody tr th {\n",
       "        vertical-align: top;\n",
       "    }\n",
       "\n",
       "    .dataframe thead th {\n",
       "        text-align: right;\n",
       "    }\n",
       "</style>\n",
       "<table border=\"1\" class=\"dataframe\">\n",
       "  <thead>\n",
       "    <tr style=\"text-align: right;\">\n",
       "      <th></th>\n",
       "      <th>x</th>\n",
       "      <th>y</th>\n",
       "    </tr>\n",
       "  </thead>\n",
       "  <tbody>\n",
       "    <tr>\n",
       "      <th>0</th>\n",
       "      <td>-7.338988</td>\n",
       "      <td>-7.729954</td>\n",
       "    </tr>\n",
       "    <tr>\n",
       "      <th>1</th>\n",
       "      <td>-7.740041</td>\n",
       "      <td>-7.264665</td>\n",
       "    </tr>\n",
       "    <tr>\n",
       "      <th>2</th>\n",
       "      <td>-1.686653</td>\n",
       "      <td>7.793442</td>\n",
       "    </tr>\n",
       "    <tr>\n",
       "      <th>3</th>\n",
       "      <td>4.422198</td>\n",
       "      <td>3.071947</td>\n",
       "    </tr>\n",
       "    <tr>\n",
       "      <th>4</th>\n",
       "      <td>-8.917752</td>\n",
       "      <td>-7.888196</td>\n",
       "    </tr>\n",
       "  </tbody>\n",
       "</table>\n",
       "</div>"
      ],
      "text/plain": [
       "          x         y\n",
       "0 -7.338988 -7.729954\n",
       "1 -7.740041 -7.264665\n",
       "2 -1.686653  7.793442\n",
       "3  4.422198  3.071947\n",
       "4 -8.917752 -7.888196"
      ]
     },
     "execution_count": 17,
     "metadata": {},
     "output_type": "execute_result"
    }
   ],
   "source": [
    "import pandas as pd\n",
    "import numpy as np\n",
    "from sklearn.cluster import KMeans\n",
    "from matplotlib import pyplot as plt\n",
    "\n",
    "# we will use the same dataset like in the example above\n",
    "data = pd.read_csv(\"cluster.csv\")\n",
    "del data[\"Unnamed: 0\"]\n",
    "print(\"this is the Dataset we want to cluster\")\n",
    "data.head()"
   ]
  },
  {
   "cell_type": "markdown",
   "metadata": {},
   "source": [
    "## 2. Determine epsilon and min_samples"
   ]
  },
  {
   "cell_type": "code",
   "execution_count": 43,
   "metadata": {},
   "outputs": [],
   "source": [
    "from sklearn.neighbors import NearestNeighbors\n",
    "neighbor = NearestNeighbors(n_neighbors=2)\n",
    "\n",
    "# fit the instance on our data\n",
    "nbrs = neighbor.fit(data)\n",
    "\n",
    "# get the distances between each points\n",
    "distances, indices = nbrs.kneighbors(data)"
   ]
  },
  {
   "cell_type": "code",
   "execution_count": 44,
   "metadata": {},
   "outputs": [
    {
     "data": {
      "text/plain": [
       "[<matplotlib.lines.Line2D at 0x1a2103d048>]"
      ]
     },
     "execution_count": 44,
     "metadata": {},
     "output_type": "execute_result"
    },
    {
     "data": {
      "image/png": "[encoded data removed]",
      "text/plain": [
       "<Figure size 432x288 with 1 Axes>"
      ]
     },
     "metadata": {
      "needs_background": "light"
     },
     "output_type": "display_data"
    }
   ],
   "source": [
    "# sort the distances\n",
    "distances = np.sort(distances, axis=0)\n",
    "\n",
    "# remove the value before each point so that only the distances are in a list\n",
    "distances = distances[:,1]\n",
    "\n",
    "# plot the distances\n",
    "plt.title(\"density distribution of the data\")\n",
    "plt.xlabel(\"Points\")\n",
    "plt.ylabel(\"distances\")\n",
    "plt.plot(distances)"
   ]
  },
  {
   "cell_type": "markdown",
   "metadata": {},
   "source": [
    "The best value for epsilon is where the slope is the steepest\n",
    "  \n",
    "I would say <strong>in this case it is around 0.6.</strong>."
   ]
  },
  {
   "cell_type": "markdown",
   "metadata": {},
   "source": [
    "To choose min_samples we have to take a look at the size of our Dataset and choose it by intuition.\n",
    "  \n",
    "The Dataset contains 300 datapoints. I dont want that noise is selected as a cluster so I set min_samples to 5."
   ]
  },
  {
   "cell_type": "markdown",
   "metadata": {},
   "source": [
    "## 3. Train our DBScan model with an epsilon of 0.6"
   ]
  },
  {
   "cell_type": "code",
   "execution_count": 117,
   "metadata": {},
   "outputs": [
    {
     "data": {
      "text/plain": [
       "DBSCAN(algorithm='auto', eps=0.6, leaf_size=30, metric='euclidean',\n",
       "    metric_params=None, min_samples=5, n_jobs=None, p=None)"
      ]
     },
     "execution_count": 117,
     "metadata": {},
     "output_type": "execute_result"
    }
   ],
   "source": [
    "from sklearn.cluster import DBSCAN\n",
    "dbscan = DBSCAN(eps=0.6, min_samples=5)\n",
    "dbscan.fit(data)"
   ]
  },
  {
   "cell_type": "code",
   "execution_count": 118,
   "metadata": {},
   "outputs": [],
   "source": [
    "# save the cluster labels of each point\n",
    "clusters = dbscan.labels_\n",
    "\n",
    "colors = ['#007DC5', '#BD005E', '#92BB0E', 'red', 'black']\n",
    "\n",
    "vectorizer = np.vectorize(lambda x: colors[x % len(colors)])"
   ]
  },
  {
   "cell_type": "code",
   "execution_count": 119,
   "metadata": {},
   "outputs": [
    {
     "data": {
      "text/plain": [
       "<matplotlib.collections.PathCollection at 0x1a21d57940>"
      ]
     },
     "execution_count": 119,
     "metadata": {},
     "output_type": "execute_result"
    },
    {
     "data": {
      "image/png": "[encoded data removed]",
      "text/plain": [
       "<Figure size 432x288 with 1 Axes>"
      ]
     },
     "metadata": {
      "needs_background": "light"
     },
     "output_type": "display_data"
    }
   ],
   "source": [
    "plt.scatter(data.x, data.y, c=vectorizer(clusters))"
   ]
  },
  {
   "cell_type": "markdown",
   "metadata": {},
   "source": [
    "### Looks different than the Kmeans!"
   ]
  },
  {
   "cell_type": "markdown",
   "metadata": {},
   "source": [
    "The clusters are recognized correctly. The black dots are classified as outliers because they are not core points and dont have a core point in their neighborhood."
   ]
  },
  {
   "cell_type": "markdown",
   "metadata": {},
   "source": [
    "### Play around with different values for epsilon and min_samples to get a feeling for the algorithm."
   ]
  },
  {
   "cell_type": "markdown",
   "metadata": {},
   "source": [
    "# Congrats! You learned the basics of clustering!\n",
    "## There are a lot of different clustering algorithms with different strenghts and weaknesses as this image from SkLearn shows.\n"
   ]
  },
  {
   "cell_type": "markdown",
   "metadata": {},
   "source": [
    "<img src=\"https://scikit-learn.org/stable/_images/sphx_glr_plot_cluster_comparison_001.png\">"
   ]
  }
 ],
 "metadata": {
  "kernelspec": {
   "display_name": "Python 3",
   "language": "python",
   "name": "python3"
  },
  "language_info": {
   "codemirror_mode": {
    "name": "ipython",
    "version": 3
   },
   "file_extension": ".py",
   "mimetype": "text/x-python",
   "name": "python",
   "nbconvert_exporter": "python",
   "pygments_lexer": "ipython3",
   "version": "3.7.6"
  }
 },
 "nbformat": 4,
 "nbformat_minor": 4
}